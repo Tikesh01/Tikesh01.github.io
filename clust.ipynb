{
 "cells": [
  {
   "cell_type": "code",
   "execution_count": null,
   "id": "345f9428",
   "metadata": {},
   "outputs": [
    {
     "ename": "",
     "evalue": "",
     "output_type": "error",
     "traceback": [
      "\u001b[1;31mRunning cells with 'CWQ (Python 3.13.2)' requires the ipykernel package.\n",
      "\u001b[1;31mInstall 'ipykernel' into the Python environment. \n",
      "\u001b[1;31mCommand: 'conda install -p c:\\Users\\tikes\\OneDrive\\Documents\\OneDrive\\Desktop\\ClonedProject\\Sem2ndProjectQuantumC\\CWQ ipykernel --update-deps --force-reinstall'"
     ]
    }
   ],
   "source": [
    "from qiskit import QuantumCircuit,  execute\n",
    "from qiskit_aer import Aer\n",
    "\n",
    "from qiskit.visualization import plot_histogram\n",
    "\n",
    "# Step 1: Quantum Circuit for Superposition (Parallelism)\n",
    "def create_quantum_circuit(n):\n",
    "    qc = QuantumCircuit(n)\n",
    "    qc.h(range(n))  # Apply Hadamard to create superposition\n",
    "    return qc\n",
    "\n",
    "# Step 2: Oracle for search (Example for Grover’s search)\n",
    "def apply_oracle(qc, n):\n",
    "    # Example Oracle that flips the sign of the desired state\n",
    "    qc.x(n-1)  # Example: flip last qubit state\n",
    "    qc.h(n-1)  # Apply Hadamard to that qubit\n",
    "    return qc\n",
    "\n",
    "# Step 3: Grover’s Diffusion Operator\n",
    "def grover_diffusion(qc, n):\n",
    "    qc.h(range(n))  # Hadamard on all qubits\n",
    "    qc.x(range(n))  # X gates on all qubits\n",
    "    qc.h(n-1)  # Apply Hadamard on last qubit for diffusion\n",
    "    qc.x(n-1)\n",
    "    qc.h(range(n))  # Final Hadamard to complete diffusion\n",
    "    return qc\n",
    "\n",
    "# Step 4: Simulation\n",
    "def run_simulation(qc):\n",
    "    backend = Aer.get_backend('statevector_simulator')\n",
    "    job = execute(qc, backend)\n",
    "    result = job.result()\n",
    "    counts = result.get_counts(qc)\n",
    "    plot_histogram(counts)\n",
    "    return counts\n",
    "\n",
    "# Step 5: Full Process\n",
    "def quantum_sum_search(n):\n",
    "    # Initialize Quantum Circuit\n",
    "    qc = create_quantum_circuit(n)\n",
    "\n",
    "    # Apply Oracle and Diffusion Operator for Grover's search\n",
    "    qc = apply_oracle(qc, n)\n",
    "    qc = grover_diffusion(qc, n)\n",
    "\n",
    "    # Run simulation\n",
    "    counts = run_simulation(qc)\n",
    "    return counts\n",
    "\n",
    "# Example: Let's take 3 qubits (n=3 for simplicity)\n",
    "counts = quantum_sum_search(3)\n",
    "print(\"Result of quantum computation:\", counts)\n"
   ]
  }
 ],
 "metadata": {
  "kernelspec": {
   "display_name": "Python 3",
   "language": "python",
   "name": "python3"
  },
  "language_info": {
   "codemirror_mode": {
    "name": "ipython",
    "version": 3
   },
   "file_extension": ".py",
   "mimetype": "text/x-python",
   "name": "python",
   "nbconvert_exporter": "python",
   "pygments_lexer": "ipython3",
   "version": "3.13.2"
  }
 },
 "nbformat": 4,
 "nbformat_minor": 5
}
