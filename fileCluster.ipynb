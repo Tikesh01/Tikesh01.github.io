{
 "cells": [
  {
   "cell_type": "code",
   "execution_count": 4,
   "id": "7212af13",
   "metadata": {},
   "outputs": [
    {
     "name": "stdout",
     "output_type": "stream",
     "text": [
      "Total columns = 12\n",
      "Total rows = 1000\n",
      "[0      False\n",
      "1      False\n",
      "2      False\n",
      "3      False\n",
      "4      False\n",
      "       ...  \n",
      "995    False\n",
      "996    False\n",
      "997    False\n",
      "998    False\n",
      "999    False\n",
      "Name: Customer Id, Length: 1000, dtype: bool]\n"
     ]
    }
   ],
   "source": [
    "import pandas as pd\n",
    "import numpy as np\n",
    "df = pd.read_csv(\"customers-1000.csv\")#df is the data frame containing the whole content of file\n",
    "columns = np.array(df.columns)#to know the number of colums in dataframe(csv) file\n",
    "noOfColumns = len(columns)\n",
    "noOfRows = len(df.index)\n",
    "print(f\"Total columns = {noOfColumns}\")\n",
    "print(f\"Total rows = {noOfRows}\")\n",
    "\n",
    "print([df.iloc[:,1].duplicated()])\n",
    "# clusteredColumns = np.array([])\n",
    "# for i in noOfColumns:\n",
    "#     if i.duplicate()\n",
    "    \n",
    "\n",
    "class dataFrame:\n",
    "    mainContent = df\n",
    "    def bestMatch():\n",
    "        print(mainContent.iloc[:,1])"
   ]
  }
 ],
 "metadata": {
  "kernelspec": {
   "display_name": "Python 3",
   "language": "python",
   "name": "python3"
  },
  "language_info": {
   "codemirror_mode": {
    "name": "ipython",
    "version": 3
   },
   "file_extension": ".py",
   "mimetype": "text/x-python",
   "name": "python",
   "nbconvert_exporter": "python",
   "pygments_lexer": "ipython3",
   "version": "3.12.8"
  }
 },
 "nbformat": 4,
 "nbformat_minor": 5
}
