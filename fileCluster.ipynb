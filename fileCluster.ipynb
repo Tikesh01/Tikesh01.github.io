{
 "cells": [
  {
   "cell_type": "code",
   "execution_count": null,
   "id": "7212af13",
   "metadata": {},
   "outputs": [],
   "source": [
    "import pandas as pd\n",
    "import numpy as np\n",
    "from pandas.api.types import is_datetime64_any_dtype\n",
    "\n",
    "df = pd.read_csv('.//customers-1000.csv')#df is the data frame containing the whole content of file\n",
    "columns = np.array(df.columns)#to know the number of colums in dataframe(csv) file\n",
    "noOfColumns = len(columns)\n",
    "noOfRows = len(df.index)\n",
    "print(f\"Total columns = {noOfColumns}\")\n",
    "print(f\"Total rows = {noOfRows}\")\n",
    "sortAccordingToDateTime = True\n",
    "sortAccordingToComment = False\n",
    "\n",
    "if sortAccordingToDateTime == True:\n",
    "    df = clusterDateTimeCol(df) \n",
    "    \n",
    "\n",
    "print(df)"
   ]
  },
  {
   "cell_type": "code",
   "execution_count": null,
   "id": "e4f6e017",
   "metadata": {},
   "outputs": [],
   "source": [
    "    def clusterDateTimeCol(fContent):\n",
    "        for col in fContent.columns:\n",
    "            a = sort_if_year_column(fContent[col])\n",
    "            if a == False:\n",
    "                pass\n",
    "            else:\n",
    "                fContent[col] = a\n",
    "            \n",
    "            try:\n",
    "                # Try to convert the column to datetime (auto format detection)\n",
    "                #it is flexible for all type of date time format\n",
    "                parsed_col = pd.to_datetime(fContent[col], errors='raise', dayfirst=True)\n",
    "                # Check if all time values are 00:00:00 → meaning only dates\n",
    "                if all(parsed_col.dt.time == pd.to_datetime('00:00:00').time()): #it is for date only \n",
    "                    print(\"date\")\n",
    "                    fContent = clean_and_sort_date_column(df,col)\n",
    "                else:# it is for both date and time\n",
    "                    print(f\"{col} dateTime\")\n",
    "                    fContent = Shandle_datetime_column(df,col)\n",
    "            except Exception:\n",
    "                continue\n",
    "    \n",
    "        return fContent "
   ]
  },
  {
   "cell_type": "code",
   "execution_count": 12,
   "id": "ff76d2a2",
   "metadata": {},
   "outputs": [],
   "source": [
    "#if Only year\n",
    "def sort_if_year_column(column):\n",
    "    try:\n",
    "        # Step 1: Convert to string and strip whitespace\n",
    "        cleaned = column.astype(str).str.strip()\n",
    "        \n",
    "        # Step 2: Check if all values match 4-digit pattern\n",
    "        if cleaned.str.fullmatch(r'\\d{4}').all():\n",
    "            # Step 3: Convert to int and check valid year range\n",
    "            years = cleaned.astype(int)\n",
    "            if years.between(1800, 2050).all():\n",
    "                print(\"✅ Year-only column detected. Sorted.\")\n",
    "                return years.sort_values(ignore_index=True)\n",
    "            else:\n",
    "               pass\n",
    "        else:\n",
    "            pass\n",
    "    except Exception as e:\n",
    "        print(f\"Error: {e}\")\n",
    "    \n",
    "    return False # Return as-is if not valid\n"
   ]
  },
  {
   "cell_type": "code",
   "execution_count": 13,
   "id": "5ca7e66e",
   "metadata": {},
   "outputs": [],
   "source": [
    "#fuction which will sort the dates if the df has date containing columns\n",
    "def clean_and_sort_date_column(dff, column_name, ascending=True):\n",
    "    try:\n",
    "         # Step 1: Convert to datetime (handles multiple formats)\n",
    "        dff[column_name] = pd.to_datetime(dff[column_name], errors='coerce', dayfirst=True)\n",
    "        \n",
    "        # Step 2: Drop NaT (invalid formats)\n",
    "        dff = dff.dropna(subset=[column_name])\n",
    "        \n",
    "        # Step 3: Sort the DataFrame by that column\n",
    "        dff = dff.sort_values(by=column_name, ascending=ascending)\n",
    "\n",
    "        # Optional: Format to clean date string (YYYY-MM-DD)\n",
    "        # dff[column_name] = dff[column_name].dt.strftime('%Y-%m-%d')\n",
    "\n",
    "        return dff\n",
    "    \n",
    "    except Exception as e:\n",
    "        print(f\"⚠️ Error while processing date column: {e}\")\n",
    "        return dff"
   ]
  },
  {
   "cell_type": "code",
   "execution_count": 14,
   "id": "c830a197",
   "metadata": {},
   "outputs": [],
   "source": [
    "# if df has column containing the date and time both\n",
    "def handle_datetime_column(df, column_name):\n",
    "\n",
    "    # Check if most values in column are datetime with time\n",
    "    values = df[column_name].dropna().astype(str).head(20)\n",
    "    count_datetime = sum([is_datetime(v) for v in values])\n",
    "\n",
    "    if count_datetime >= len(values) // 2:  # At least half must be datetime-like\n",
    "        # Convert full column to datetime\n",
    "        df[column_name] = pd.to_datetime(df[column_name], errors='coerce')\n",
    "        # Drop rows with invalid dates\n",
    "        df = df.dropna(subset=[column_name])\n",
    "        # Sort by that column\n",
    "        df = df.sort_values(by=column_name).reset_index(drop=True)\n",
    "        print(f\"[INFO] '{column_name}' successfully recognized and sorted as datetime.\")\n",
    "    else:\n",
    "        print(f\"[INFO] '{column_name}' does not contain proper datetime with time.\")\n",
    "\n",
    "    return df"
   ]
  },
  {
   "cell_type": "code",
   "execution_count": null,
   "id": "a4a59f15",
   "metadata": {},
   "outputs": [],
   "source": [
    "#Group(MultiIndexing) accordind to the condition "
   ]
  }
 ],
 "metadata": {
  "kernelspec": {
   "display_name": "Python 3",
   "language": "python",
   "name": "python3"
  },
  "language_info": {
   "codemirror_mode": {
    "name": "ipython",
    "version": 3
   },
   "file_extension": ".py",
   "mimetype": "text/x-python",
   "name": "python",
   "nbconvert_exporter": "python",
   "pygments_lexer": "ipython3",
   "version": "3.12.8"
  }
 },
 "nbformat": 4,
 "nbformat_minor": 5
}
