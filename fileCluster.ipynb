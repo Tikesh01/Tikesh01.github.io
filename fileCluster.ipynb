{
 "cells": [
  {
   "cell_type": "code",
   "execution_count": null,
   "id": "7212af13",
   "metadata": {},
   "outputs": [
    {
     "name": "stdout",
     "output_type": "stream",
     "text": [
      "Total columns = 12\n",
      "Total rows = 1000\n",
      "[0      False\n",
      "1      False\n",
      "2      False\n",
      "3      False\n",
      "4      False\n",
      "       ...  \n",
      "995    False\n",
      "996    False\n",
      "997    False\n",
      "998    False\n",
      "999    False\n",
      "Name: Customer Id, Length: 1000, dtype: bool]\n"
     ]
    },
    {
     "ename": "IndexError",
     "evalue": "index 0 is out of bounds for axis 0 with size 0",
     "output_type": "error",
     "traceback": [
      "\u001b[31m---------------------------------------------------------------------------\u001b[39m",
      "\u001b[31mIndexError\u001b[39m                                Traceback (most recent call last)",
      "\u001b[36mCell\u001b[39m\u001b[36m \u001b[39m\u001b[32mIn[5]\u001b[39m\u001b[32m, line 12\u001b[39m\n\u001b[32m     10\u001b[39m \u001b[38;5;28mprint\u001b[39m([df.iloc[:,\u001b[32m1\u001b[39m].duplicated()])\n\u001b[32m     11\u001b[39m clusteredColumns = np.array([])\n\u001b[32m---> \u001b[39m\u001b[32m12\u001b[39m \u001b[43mclusteredColumns\u001b[49m\u001b[43m[\u001b[49m\u001b[32;43m0\u001b[39;49m\u001b[43m]\u001b[49m = df[df.iloc[:,\u001b[32m1\u001b[39m].duplicated()]\n\u001b[32m     15\u001b[39m \u001b[38;5;28;01mclass\u001b[39;00m\u001b[38;5;250m \u001b[39m\u001b[34;01mdataFrame\u001b[39;00m:\n\u001b[32m     16\u001b[39m     mainContent = df\n",
      "\u001b[31mIndexError\u001b[39m: index 0 is out of bounds for axis 0 with size 0"
     ]
    }
   ],
   "source": [
    "import pandas as pd\n",
    "import numpy as np\n",
    "df = pd.read_csv(\"customers-1000.csv\")#df is the data frame containing the whole content of file\n",
    "columns = np.array(df.columns)#to know the number of colums in dataframe(csv) file\n",
    "noOfColumns = len(columns)\n",
    "noOfRows = len(df.index)\n",
    "print(f\"Total columns = {noOfColumns}\")\n",
    "print(f\"Total rows = {noOfRows}\")\n",
    "\n",
    "print([df.iloc[:,1].duplicated()])\n",
    "clusteredColumns = np.array([]) \n",
    "clusteredColumns[0] = df[df.iloc[:,1].duplicated()]\n",
    "    \n",
    "\n",
    "class dataFrame:\n",
    "    mainContent = df\n",
    "    def bestMatch():\n",
    "        print(mainContent.iloc[:,1])"
   ]
  }
 ],
 "metadata": {
  "kernelspec": {
   "display_name": "Python 3",
   "language": "python",
   "name": "python3"
  },
  "language_info": {
   "codemirror_mode": {
    "name": "ipython",
    "version": 3
   },
   "file_extension": ".py",
   "mimetype": "text/x-python",
   "name": "python",
   "nbconvert_exporter": "python",
   "pygments_lexer": "ipython3",
   "version": "3.12.8"
  }
 },
 "nbformat": 4,
 "nbformat_minor": 5
}
