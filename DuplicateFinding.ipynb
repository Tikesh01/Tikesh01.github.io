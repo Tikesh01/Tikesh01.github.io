{
 "cells": [
  {
   "cell_type": "markdown",
   "id": "d3ca7e84",
   "metadata": {},
   "source": [
    "**Quantum Parallel Duplicate Detection with Total Sum**"
   ]
  },
  {
   "cell_type": "code",
   "execution_count": 49,
   "id": "39b64691",
   "metadata": {},
   "outputs": [
    {
     "name": "stdout",
     "output_type": "stream",
     "text": [
      "Execution Time: 0.0572 seconds\n",
      "\n",
      "Duplicate counts by column:\n",
      "Employee_ID: 65 duplicates\n",
      "Task_ID: 6 duplicates\n",
      "Start_Date: 939 duplicates\n",
      "End_Date: 939 duplicates\n",
      "Login_Time: 40 duplicates\n",
      "Logout_Time: 31 duplicates\n",
      "\n",
      "Total duplicates across all columns: 2020\n",
      "\n",
      "Quantum Circuit Measurements:\n"
     ]
    }
   ],
   "source": [
    "import pandas as pd\n",
    "import numpy as np\n",
    "from qiskit import QuantumCircuit, QuantumRegister, ClassicalRegister, transpile\n",
    "from qiskit_aer import AerSimulator\n",
    "import time\n",
    "from concurrent.futures import ThreadPoolExecutor\n",
    "\n",
    "# Read the sample data\n",
    "df = pd.read_csv('employee_time_log.csv')\n",
    "\n",
    "#how are you checking for duplicates without any duplicate fuction\n",
    "def check_column_duplicates(column_data):\n",
    "    # Count duplicates in a single column\n",
    "    value_counts = column_data.value_counts()\n",
    "    duplicates = sum(count - 1 for count in value_counts if count > 1)\n",
    "    return duplicates\n",
    "\n",
    "def quantum_parallel_duplicate_check(df):\n",
    "    start_time = time.time()\n",
    "    simulator = AerSimulator()\n",
    "    \n",
    "    # Number of columns to process in parallel\n",
    "    num_columns = len(df.columns)\n",
    "    \n",
    "    # Create quantum circuit for parallel processing\n",
    "    qr = QuantumRegister(num_columns, 'q')\n",
    "    cr = ClassicalRegister(num_columns, 'c')\n",
    "    qc = QuantumCircuit(qr, cr)\n",
    "    \n",
    "    # Apply Hadamard gates to create superposition\n",
    "    qc.h(range(num_columns))\n",
    "    \n",
    "    # Use ThreadPoolExecutor for parallel classical computation\n",
    "    column_results = {}\n",
    "    total_duplicates = 0\n",
    "    \n",
    "    with ThreadPoolExecutor() as executor:\n",
    "        # Map the duplicate checking function to all columns\n",
    "        future_to_column = {\n",
    "            executor.submit(check_column_duplicates, df[column]): column\n",
    "            for column in df.columns\n",
    "        }\n",
    "        \n",
    "        # Collect results as they complete\n",
    "        for future in future_to_column:\n",
    "            column = future_to_column[future]\n",
    "            duplicates = future.result()\n",
    "            column_results[column] = duplicates\n",
    "            total_duplicates += duplicates\n",
    "    \n",
    "    # Add quantum interference\n",
    "    for i in range(num_columns):\n",
    "        if column_results[df.columns[i]] > 0:\n",
    "            qc.x(i)  # Apply X gate if duplicates found\n",
    "    \n",
    "    # Measure all qubits\n",
    "    qc.measure(range(num_columns), range(num_columns))\n",
    "    \n",
    "    # Run on simulator\n",
    "    compiled_circuit = transpile(qc, simulator)\n",
    "    job = simulator.run(compiled_circuit, shots=1024)\n",
    "    # counts = job.result().get_counts()\n",
    "    \n",
    "    end_time = time.time()\n",
    "    execution_time = end_time - start_time\n",
    "    \n",
    "    return {\n",
    "        'column_results': column_results,\n",
    "        'total_duplicates': total_duplicates,\n",
    "        'execution_time': execution_time\n",
    "    }\n",
    "\n",
    "# Run the parallel quantum duplicate check\n",
    "results = quantum_parallel_duplicate_check(df)\n",
    "\n",
    "# Print results\n",
    "print(f\"Execution Time: {results['execution_time']:.4f} seconds\\n\")\n",
    "print(\"Duplicate counts by column:\")\n",
    "for column, count in results['column_results'].items():\n",
    "    print(f\"{column}: {count} duplicates\")\n",
    "print(f\"\\nTotal duplicates across all columns: {results['total_duplicates']}\")\n",
    "print(\"\\nQuantum Circuit Measurements:\")"
   ]
  },
  {
   "cell_type": "code",
   "execution_count": 50,
   "id": "99341536",
   "metadata": {},
   "outputs": [
    {
     "name": "stdout",
     "output_type": "stream",
     "text": [
      "Example of duplicates in First Name:\n"
     ]
    },
    {
     "ename": "KeyError",
     "evalue": "'First Name'",
     "output_type": "error",
     "traceback": [
      "\u001b[31m---------------------------------------------------------------------------\u001b[39m",
      "\u001b[31mKeyError\u001b[39m                                  Traceback (most recent call last)",
      "\u001b[36mFile \u001b[39m\u001b[32mc:\\Users\\tikes\\AppData\\Local\\Programs\\Python\\Python312\\Lib\\site-packages\\pandas\\core\\indexes\\base.py:3805\u001b[39m, in \u001b[36mIndex.get_loc\u001b[39m\u001b[34m(self, key)\u001b[39m\n\u001b[32m   3804\u001b[39m \u001b[38;5;28;01mtry\u001b[39;00m:\n\u001b[32m-> \u001b[39m\u001b[32m3805\u001b[39m     \u001b[38;5;28;01mreturn\u001b[39;00m \u001b[38;5;28;43mself\u001b[39;49m\u001b[43m.\u001b[49m\u001b[43m_engine\u001b[49m\u001b[43m.\u001b[49m\u001b[43mget_loc\u001b[49m\u001b[43m(\u001b[49m\u001b[43mcasted_key\u001b[49m\u001b[43m)\u001b[49m\n\u001b[32m   3806\u001b[39m \u001b[38;5;28;01mexcept\u001b[39;00m \u001b[38;5;167;01mKeyError\u001b[39;00m \u001b[38;5;28;01mas\u001b[39;00m err:\n",
      "\u001b[36mFile \u001b[39m\u001b[32mindex.pyx:167\u001b[39m, in \u001b[36mpandas._libs.index.IndexEngine.get_loc\u001b[39m\u001b[34m()\u001b[39m\n",
      "\u001b[36mFile \u001b[39m\u001b[32mindex.pyx:196\u001b[39m, in \u001b[36mpandas._libs.index.IndexEngine.get_loc\u001b[39m\u001b[34m()\u001b[39m\n",
      "\u001b[36mFile \u001b[39m\u001b[32mpandas\\\\_libs\\\\hashtable_class_helper.pxi:7081\u001b[39m, in \u001b[36mpandas._libs.hashtable.PyObjectHashTable.get_item\u001b[39m\u001b[34m()\u001b[39m\n",
      "\u001b[36mFile \u001b[39m\u001b[32mpandas\\\\_libs\\\\hashtable_class_helper.pxi:7089\u001b[39m, in \u001b[36mpandas._libs.hashtable.PyObjectHashTable.get_item\u001b[39m\u001b[34m()\u001b[39m\n",
      "\u001b[31mKeyError\u001b[39m: 'First Name'",
      "\nThe above exception was the direct cause of the following exception:\n",
      "\u001b[31mKeyError\u001b[39m                                  Traceback (most recent call last)",
      "\u001b[36mCell\u001b[39m\u001b[36m \u001b[39m\u001b[32mIn[50]\u001b[39m\u001b[32m, line 3\u001b[39m\n\u001b[32m      1\u001b[39m \u001b[38;5;66;03m# Let's look at some examples of duplicates in the First Name column\u001b[39;00m\n\u001b[32m      2\u001b[39m \u001b[38;5;28mprint\u001b[39m(\u001b[33m\"\u001b[39m\u001b[33mExample of duplicates in First Name:\u001b[39m\u001b[33m\"\u001b[39m)\n\u001b[32m----> \u001b[39m\u001b[32m3\u001b[39m first_name_counts = \u001b[43mdf\u001b[49m\u001b[43m[\u001b[49m\u001b[33;43m'\u001b[39;49m\u001b[33;43mFirst Name\u001b[39;49m\u001b[33;43m'\u001b[39;49m\u001b[43m]\u001b[49m.value_counts()\n\u001b[32m      4\u001b[39m \u001b[38;5;28mprint\u001b[39m(\u001b[33m\"\u001b[39m\u001b[38;5;130;01m\\n\u001b[39;00m\u001b[33mTop 5 most repeated first names and their counts:\u001b[39m\u001b[33m\"\u001b[39m)\n\u001b[32m      5\u001b[39m \u001b[38;5;28mprint\u001b[39m(first_name_counts.head())\n",
      "\u001b[36mFile \u001b[39m\u001b[32mc:\\Users\\tikes\\AppData\\Local\\Programs\\Python\\Python312\\Lib\\site-packages\\pandas\\core\\frame.py:4102\u001b[39m, in \u001b[36mDataFrame.__getitem__\u001b[39m\u001b[34m(self, key)\u001b[39m\n\u001b[32m   4100\u001b[39m \u001b[38;5;28;01mif\u001b[39;00m \u001b[38;5;28mself\u001b[39m.columns.nlevels > \u001b[32m1\u001b[39m:\n\u001b[32m   4101\u001b[39m     \u001b[38;5;28;01mreturn\u001b[39;00m \u001b[38;5;28mself\u001b[39m._getitem_multilevel(key)\n\u001b[32m-> \u001b[39m\u001b[32m4102\u001b[39m indexer = \u001b[38;5;28;43mself\u001b[39;49m\u001b[43m.\u001b[49m\u001b[43mcolumns\u001b[49m\u001b[43m.\u001b[49m\u001b[43mget_loc\u001b[49m\u001b[43m(\u001b[49m\u001b[43mkey\u001b[49m\u001b[43m)\u001b[49m\n\u001b[32m   4103\u001b[39m \u001b[38;5;28;01mif\u001b[39;00m is_integer(indexer):\n\u001b[32m   4104\u001b[39m     indexer = [indexer]\n",
      "\u001b[36mFile \u001b[39m\u001b[32mc:\\Users\\tikes\\AppData\\Local\\Programs\\Python\\Python312\\Lib\\site-packages\\pandas\\core\\indexes\\base.py:3812\u001b[39m, in \u001b[36mIndex.get_loc\u001b[39m\u001b[34m(self, key)\u001b[39m\n\u001b[32m   3807\u001b[39m     \u001b[38;5;28;01mif\u001b[39;00m \u001b[38;5;28misinstance\u001b[39m(casted_key, \u001b[38;5;28mslice\u001b[39m) \u001b[38;5;129;01mor\u001b[39;00m (\n\u001b[32m   3808\u001b[39m         \u001b[38;5;28misinstance\u001b[39m(casted_key, abc.Iterable)\n\u001b[32m   3809\u001b[39m         \u001b[38;5;129;01mand\u001b[39;00m \u001b[38;5;28many\u001b[39m(\u001b[38;5;28misinstance\u001b[39m(x, \u001b[38;5;28mslice\u001b[39m) \u001b[38;5;28;01mfor\u001b[39;00m x \u001b[38;5;129;01min\u001b[39;00m casted_key)\n\u001b[32m   3810\u001b[39m     ):\n\u001b[32m   3811\u001b[39m         \u001b[38;5;28;01mraise\u001b[39;00m InvalidIndexError(key)\n\u001b[32m-> \u001b[39m\u001b[32m3812\u001b[39m     \u001b[38;5;28;01mraise\u001b[39;00m \u001b[38;5;167;01mKeyError\u001b[39;00m(key) \u001b[38;5;28;01mfrom\u001b[39;00m\u001b[38;5;250m \u001b[39m\u001b[34;01merr\u001b[39;00m\n\u001b[32m   3813\u001b[39m \u001b[38;5;28;01mexcept\u001b[39;00m \u001b[38;5;167;01mTypeError\u001b[39;00m:\n\u001b[32m   3814\u001b[39m     \u001b[38;5;66;03m# If we have a listlike key, _check_indexing_error will raise\u001b[39;00m\n\u001b[32m   3815\u001b[39m     \u001b[38;5;66;03m#  InvalidIndexError. Otherwise we fall through and re-raise\u001b[39;00m\n\u001b[32m   3816\u001b[39m     \u001b[38;5;66;03m#  the TypeError.\u001b[39;00m\n\u001b[32m   3817\u001b[39m     \u001b[38;5;28mself\u001b[39m._check_indexing_error(key)\n",
      "\u001b[31mKeyError\u001b[39m: 'First Name'"
     ]
    }
   ],
   "source": [
    "# Let's look at some examples of duplicates in the First Name column\n",
    "print(\"Example of duplicates in First Name:\")\n",
    "first_name_counts = df['First Name'].value_counts()\n",
    "print(\"\\nTop 5 most repeated first names and their counts:\")\n",
    "print(first_name_counts.head())\n",
    "\n",
    "print(\"\\nExample of rows with the most common first name:\")\n",
    "most_common_name = first_name_counts.index[0]\n",
    "print(f\"\\nShowing all people named '{most_common_name}':\")\n",
    "print(df[df['First Name'] == most_common_name][['First Name', 'Last Name', 'City', 'Country']])\n",
    "\n",
    "# Let's also look at Country duplicates since it has many\n",
    "print(\"\\nTop 5 most common countries and their counts:\")\n",
    "country_counts = df['Country'].value_counts()\n",
    "print(country_counts.head())"
   ]
  }
 ],
 "metadata": {
  "kernelspec": {
   "display_name": "Python 3",
   "language": "python",
   "name": "python3"
  },
  "language_info": {
   "codemirror_mode": {
    "name": "ipython",
    "version": 3
   },
   "file_extension": ".py",
   "mimetype": "text/x-python",
   "name": "python",
   "nbconvert_exporter": "python",
   "pygments_lexer": "ipython3",
   "version": "3.12.8"
  }
 },
 "nbformat": 4,
 "nbformat_minor": 5
}
